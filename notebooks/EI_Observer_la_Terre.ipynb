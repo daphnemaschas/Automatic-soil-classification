{
  "nbformat": 4,
  "nbformat_minor": 0,
  "metadata": {
    "colab": {
      "provenance": []
    },
    "kernelspec": {
      "name": "python3",
      "display_name": "Python 3"
    },
    "language_info": {
      "name": "python"
    }
  },
  "cells": [
    {
      "cell_type": "markdown",
      "source": [
        "# **EI : Observer la Terre**"
      ],
      "metadata": {
        "id": "X1Gwst5J-u_R"
      }
    },
    {
      "cell_type": "markdown",
      "source": [
        "EI4 - Classification automatique de couverture de sol - 25 places - En partenariat avec Preligens (ex EarthCube)\n",
        "\n",
        "Ce projet est l'occasion d'utiliser de l'apprentissage automatique tout en se familiarisant avec l'imagerie satellite. L'équipe de Preligens  introduira d'abord les concepts de machine learning et de télédétection pertinents, ainsi que les outils nécessaires pour la prise en main du projet. Vous appliquerez ensuite l'algorithme de votre choix pour analyser le type de couverture du sol sur des images issues de la mission Sentinel 2. Sur chaque image, il s'agira de se prononcer sur la nature de chaque pixel : est-ce un zone artificielle, cultivée, herbacée, aquatique forestière ?"
      ],
      "metadata": {
        "id": "nRRk7SzJ_oe2"
      }
    },
    {
      "cell_type": "markdown",
      "source": [
        "**Les indices**:\n",
        "\n",
        "NDVI: indice de végétation par différence normalisé:\n",
        "\n",
        "$NDVI = \\frac{ρ_{PIR} - ρ_R}{ρ_{PIR} + ρ_R}$\n",
        "\n",
        "Indices de stress hydrique:\n",
        "\n",
        "$MSI = \\frac{ρ_{MIR}}{ρ_{PIR}}$\n",
        "\n",
        "NDWI moisture index\n",
        "\n",
        "$NDWI = \\frac{ρ_{PIR} - ρ_{MIR}}{ρ_{PIR} + ρ_{MIR}}$\n",
        "\n",
        "NDSI\n",
        "\n",
        "$NDSI = \\frac{ρ_{VIR} - ρ_{SWIR}}{ρ_{VIR} + ρ_{SWIR}}$\n"
      ],
      "metadata": {
        "id": "F-QZLK4PA1tH"
      }
    },
    {
      "cell_type": "code",
      "execution_count": null,
      "metadata": {
        "id": "Zf392Ye8-qcq"
      },
      "outputs": [],
      "source": [
        "import pandas as pd\n",
        "import os\n",
        "import numpy as np\n",
        "import matplotlib.pyplot as plt\n",
        "import seaborn as sns\n",
        "import tifffile as T"
      ]
    },
    {
      "cell_type": "code",
      "source": [
        "from google.colab import files\n",
        "uploaded = files.upload()"
      ],
      "metadata": {
        "id": "UDvfAs_H_O5q"
      },
      "execution_count": null,
      "outputs": []
    },
    {
      "cell_type": "code",
      "source": [
        "import matplotlib.pyplot as plt\n",
        "from matplotlib import colors\n",
        "import numpy as np\n",
        "\n",
        "from tifffile import TiffFile\n",
        "with TiffFile('18433.tif') as tif:\n",
        "  landcover = tif.asarray()\n",
        "cmap = colors.ListedColormap(['k', #nodata, absent from the dataset\n",
        "                              'magenta', #clouds, very few in the dataset\n",
        "                              'red', #artifical\n",
        "                              'khaki', #cultivated\n",
        "                              'green', #broadleaf forest\n",
        "                              'darkgreen', #coniferous forest\n",
        "                              'lightgreen', #herbaceous vegetation\n",
        "                              'grey', #natural soil\n",
        "                              'white', #permanent snow\n",
        "                              'blue' ]) #water\n",
        "bounds=np.arange(10)\n",
        "norm= colors.BoundaryNorm(bounds, cmap.N)\n",
        "plt.imshow(landcover, cmap = cmap, norm=norm)"
      ],
      "metadata": {
        "colab": {
          "base_uri": "https://localhost:8080/",
          "height": 286
        },
        "id": "HVugterGGDDv",
        "outputId": "07b7fe3f-6633-47f9-84ef-72e71e67452e"
      },
      "execution_count": null,
      "outputs": [
        {
          "output_type": "execute_result",
          "data": {
            "text/plain": [
              "<matplotlib.image.AxesImage at 0x7f85020277c0>"
            ]
          },
          "metadata": {},
          "execution_count": 9
        },
        {
          "output_type": "display_data",
          "data": {
            "text/plain": [
              "<Figure size 432x288 with 1 Axes>"
            ],
            "image/png": "[encoded data removed]"
          },
          "metadata": {
            "needs_background": "light"
          }
        }
      ]
    },
    {
      "cell_type": "code",
      "source": [
        "from osgeo import gdal\n",
        "import numpy as np\n",
        "import matplotlib.pyplot as plt\n",
        "\n",
        "raster = gdal.Open('./Train/Images/9971.tif')\n",
        "R = raster.GetRasterBand(1).ReadAsArray()\n",
        "G = raster.GetRasterBand(2).ReadAsArray()\n",
        "B = raster.GetRasterBand(3).ReadAsArray()\n",
        "img = np.array((R,G,B))\n",
        "\n",
        "plt.imshow(img[0,:,:]+img[1,:,:]+img[2,:,:])\n",
        "\"\"\"\n",
        "from tifffile import TiffFile\n",
        "with TiffFile('./Train/Images/9971.tif') as tif:\n",
        "    arr = tif.asarray()\n",
        "    plt.imshow(arr)\n",
        "\"\"\""
      ],
      "metadata": {
        "id": "ubmHnIEBAxE_",
        "colab": {
          "base_uri": "https://localhost:8080/",
          "height": 305
        },
        "outputId": "4fb9499d-dc60-4d54-a6f0-906059daeefb"
      },
      "execution_count": null,
      "outputs": [
        {
          "output_type": "execute_result",
          "data": {
            "text/plain": [
              "\"\\nfrom tifffile import TiffFile\\nwith TiffFile('./Train/Images/9971.tif') as tif:\\n    arr = tif.asarray()\\n    plt.imshow(arr)\\n\""
            ],
            "application/vnd.google.colaboratory.intrinsic+json": {
              "type": "string"
            }
          },
          "metadata": {},
          "execution_count": 22
        },
        {
          "output_type": "display_data",
          "data": {
            "text/plain": [
              "<Figure size 432x288 with 1 Axes>"
            ],
            "image/png": "[encoded data removed]"
          },
          "metadata": {
            "needs_background": "light"
          }
        }
      ]
    },
    {
      "cell_type": "markdown",
      "source": [
        "##Test de Daphné"
      ],
      "metadata": {
        "id": "FhQvb3JHYQ19"
      }
    },
    {
      "cell_type": "code",
      "source": [
        "import tensorflow as tf\n",
        "\n",
        "(train_images, train_labels), (test_images, test_labels) = tf.keras.datasets.cifar10.load_data() #à modifier\n",
        "\n",
        "train_images = train_images / 255\n",
        "test_images = test_images / 255"
      ],
      "metadata": {
        "id": "xob11k6QYONs"
      },
      "execution_count": null,
      "outputs": []
    },
    {
      "cell_type": "code",
      "source": [
        "import matplotlib.pyplot as plt\n",
        "import numpy as np"
      ],
      "metadata": {
        "id": "JHhliaoaYS5_"
      },
      "execution_count": null,
      "outputs": []
    },
    {
      "cell_type": "code",
      "source": [
        "class_names = ['nodata', 'clouds', 'artificial surfaces and construction​','cultivated areas​','broadleaf tree cover​','coniferous tree cover​','herbaceous vegetation​','natural material surfaces​','permanent snow-covered surfaces​','water bodies​']\n",
        "\n",
        "plt.figure(figsize=(10,10))\n",
        "for i in range(25):\n",
        "    plt.subplot(5,5,i+1)\n",
        "    plt.xticks([])\n",
        "    plt.yticks([])\n",
        "    plt.grid(False)\n",
        "    plt.imshow(train_images[i], cmap=plt.cm.binary)\n",
        "    # The CIFAR labels happen to be arrays,\n",
        "    # which is why you need the extra index\n",
        "    plt.xlabel(class_names[train_labels[i][0]])\n",
        "plt.show()"
      ],
      "metadata": {
        "id": "Sd8iq3dmYNGs"
      },
      "execution_count": null,
      "outputs": []
    },
    {
      "cell_type": "code",
      "source": [],
      "metadata": {
        "id": "XMpPWVEbYVU_"
      },
      "execution_count": null,
      "outputs": []
    },
    {
      "cell_type": "markdown",
      "source": [
        "## Test Pierre"
      ],
      "metadata": {
        "id": "wJiaFxy4y7-o"
      }
    },
    {
      "cell_type": "code",
      "source": [
        "from tifffile import TiffFile\n",
        "import matplotlib.pyplot as plt\n",
        "from matplotlib import colors\n",
        "import numpy as np\n",
        "import os\n",
        "import time as t\n",
        "# meme nom dans images et masks\n",
        "files_train = os.listdir(\"./dataset/train/images\")\n",
        "\n",
        "x_train_liste = []\n",
        "\n",
        "y_train_liste = []\n",
        "\n",
        "start = t.time()\n",
        "\n",
        "for i in files_train:\n",
        "    with TiffFile('./dataset/train/images/' + i) as tif:\n",
        "        x_train_liste.append(tif.asarray())\n",
        "\n",
        "\n",
        "    #with TiffFile('./dataset/train/masks/' + i) as tif:\n",
        "  #      y_train_liste.append(tif.asarray())\n",
        "\n",
        "\n",
        "x_train = np.array(x_train_liste)\n",
        "y_train = np.asarray(y_train_liste)\n",
        "end = t.time()\n",
        "print(end-start)\n",
        "\n",
        "#np.savetxt('x_train.txt', x_train)\n",
        "#np.savetxt('y_train.txt', y_train)\n"
      ],
      "metadata": {
        "id": "KVMdEJUFy4dn"
      },
      "execution_count": null,
      "outputs": []
    },
    {
      "cell_type": "code",
      "execution_count": null,
      "metadata": {
        "id": "zC2JDqXpE5JQ"
      },
      "outputs": [],
      "source": [
        "from tifffile import TiffFile\n",
        "import matplotlib.pyplot as plt\n",
        "from matplotlib import colors\n",
        "import numpy as np\n",
        "import os\n",
        "import time as t\n",
        "import tensorflow as tf\n",
        "from tensorflow import keras\n",
        "import pickle\n",
        "\n",
        "\n"
      ]
    },
    {
      "cell_type": "markdown",
      "metadata": {
        "id": "mMb5O-OGE5JT"
      },
      "source": [
        "construction de x_train"
      ]
    },
    {
      "cell_type": "markdown",
      "metadata": {
        "id": "MoIFL9gJE5JV"
      },
      "source": []
    },
    {
      "cell_type": "code",
      "execution_count": null,
      "metadata": {
        "id": "iRBHn2nxE5JV",
        "outputId": "a6be9651-17bb-4254-d73a-b37582f177b7"
      },
      "outputs": [
        {
          "name": "stdout",
          "output_type": "stream",
          "text": [
            "86.04987692832947\n"
          ]
        }
      ],
      "source": [
        "# meme nom dans images et masks\n",
        "files_train = os.listdir(\"./dataset/train/images\")\n",
        "\n",
        "x_train_liste = []\n",
        "\n",
        "\n",
        "\n",
        "start = t.time()\n",
        "\n",
        "for i in files_train:\n",
        "    with TiffFile('./dataset/train/images/' + i) as tif:\n",
        "       x_train_liste.append(tif.asarray())\n",
        "\n",
        "\n",
        "x_train = np.array(x_train_liste)\n",
        "end = t.time()\n",
        "print(end-start)"
      ]
    },
    {
      "cell_type": "markdown",
      "metadata": {
        "id": "iwjZ1KYkE5JW"
      },
      "source": [
        "construction de y_train"
      ]
    },
    {
      "cell_type": "code",
      "execution_count": null,
      "metadata": {
        "id": "SQAsWvpwE5JW",
        "outputId": "61ce8981-4a00-48bf-ebde-b6c1e5a8ba81"
      },
      "outputs": [
        {
          "name": "stdout",
          "output_type": "stream",
          "text": [
            "11.672679901123047\n"
          ]
        }
      ],
      "source": [
        "# meme nom dans images et masks\n",
        "files_train = os.listdir(\"./dataset/train/images\")\n",
        "\n",
        "y_train_liste = []\n",
        "\n",
        "start = t.time()\n",
        "\n",
        "for i in files_train:\n",
        "\n",
        "    with TiffFile('./dataset/train/masks/' + i) as tif:\n",
        "        y_train_liste.append(tif.asarray())\n",
        "\n",
        "\n",
        "y_train = np.asarray(y_train_liste)\n",
        "end = t.time()\n",
        "print(end-start)"
      ]
    },
    {
      "cell_type": "markdown",
      "metadata": {
        "id": "omwnJ54TE5JX"
      },
      "source": [
        "construction de x_test"
      ]
    },
    {
      "cell_type": "code",
      "execution_count": null,
      "metadata": {
        "id": "FSObhG7dE5JX",
        "outputId": "ba5d5b66-692c-4212-c2c6-fdb105559bea"
      },
      "outputs": [
        {
          "name": "stdout",
          "output_type": "stream",
          "text": [
            "8.364824056625366\n"
          ]
        }
      ],
      "source": [
        "# meme nom dans images et masks\n",
        "files_train = os.listdir(\"./dataset/test/images\")\n",
        "\n",
        "x_test_liste = []\n",
        "\n",
        "\n",
        "\n",
        "start = t.time()\n",
        "\n",
        "for i in files_train:\n",
        "    with TiffFile('./dataset/test/images/' + i) as tif:\n",
        "       x_test_liste.append(tif.asarray())\n",
        "\n",
        "\n",
        "x_test = np.array(x_test_liste)\n",
        "end = t.time()\n",
        "print(end-start)"
      ]
    },
    {
      "cell_type": "markdown",
      "metadata": {
        "id": "1PemdgwjE5JY"
      },
      "source": [
        "construction de y_test"
      ]
    },
    {
      "cell_type": "code",
      "execution_count": null,
      "metadata": {
        "id": "DFXBfazHE5JY",
        "outputId": "093f1e6e-b0dc-45d1-ef8c-0db3cd665025"
      },
      "outputs": [
        {
          "name": "stdout",
          "output_type": "stream",
          "text": [
            "4.061224937438965\n"
          ]
        }
      ],
      "source": [
        "# meme nom dans images et masks\n",
        "files_train = os.listdir(\"./dataset/test/images\")\n",
        "\n",
        "y_test_liste = []\n",
        "\n",
        "\n",
        "\n",
        "start = t.time()\n",
        "\n",
        "for i in files_train:\n",
        "    with TiffFile('./dataset/test/masks/' + i) as tif:\n",
        "       y_test_liste.append(tif.asarray())\n",
        "\n",
        "\n",
        "y_test = np.array(y_test_liste)\n",
        "end = t.time()\n",
        "print(end-start)"
      ]
    },
    {
      "cell_type": "code",
      "execution_count": null,
      "metadata": {
        "id": "XH-EctySE5Ja",
        "outputId": "f250fd0e-c468-48ff-eed3-7b0f5bb9d9dc"
      },
      "outputs": [
        {
          "name": "stdout",
          "output_type": "stream",
          "text": [
            "(18491, 256, 256, 4)\n",
            "(18491, 256, 256)\n",
            "(5043, 256, 256, 4)\n",
            "(5043, 256, 256)\n"
          ]
        }
      ],
      "source": [
        "print(x_train.shape)\n",
        "print(y_train.shape)\n",
        "print(x_test.shape)\n",
        "print(y_test.shape)\n",
        "\n",
        "\n"
      ]
    },
    {
      "cell_type": "code",
      "execution_count": null,
      "metadata": {
        "id": "u8OfzG4oE5Ja",
        "outputId": "077b502e-2b51-4f36-cf44-4d573a3cbf53"
      },
      "outputs": [
        {
          "ename": "",
          "evalue": "",
          "output_type": "error",
          "traceback": [
            "\u001b[1;31mLe Kernel s’est bloqué lors de l’exécution du code dans la cellule active ou une cellule précédente. Veuillez vérifier le code dans la ou les cellules pour identifier une cause possible de l’échec. Cliquez <a href='https://aka.ms/vscodeJupyterKernelCrash'>ici</a> pour plus d’informations. Pour plus d’informations, consultez Jupyter <a href='command:jupyter.viewOutput'>log</a>."
          ]
        },
        {
          "ename": "",
          "evalue": "",
          "output_type": "error",
          "traceback": [
            "\u001b[1;31mCanceled future for execute_request message before replies were done"
          ]
        }
      ],
      "source": [
        "#normalisation dans [0,1] reduit la dispersion\n",
        "#x_train=x_train/255\n",
        "#x_test=x_test/255"
      ]
    },
    {
      "cell_type": "markdown",
      "metadata": {
        "id": "QPkaURa6E5Jb"
      },
      "source": [
        "## Définir le réseau de neurones\n",
        "\n",
        "Pour définir chaque couche de notre réseau de neurones, on va d'abord :\n",
        "- initialiser le modèle avec : `model=tf.keras.models.Sequential()` (c'est un modèle séquentiel i.e. où les couches vont s'enchaîner)\n",
        "- ajouter des couches avec : `model.add(couche)`\n",
        "\n",
        "Les couches qu'on va ajouter :\n",
        "- d'abord une couche `Flatten(input_shape=(im_height,im_width,n_channels))` qui va servir à aplanir l'image en un vecteur. (n_channels= 3 si image en couleur, = 1 si image en noir et blanc)\n",
        " `input_shape=` est un argument obligatoire pour la 1ère couche du modèle, cela détermine la taille des données. Pour les couches suivantes ce n'est plus utile car la taille intermédiaire est calculée automatiquement.\n",
        " - 2 couches `Dense(nb_neurones,activation='à vous de choisir')`, ce sont les couches de neurones intermédiaires (pas besoin de refaire tous les produits matriciels horribles OMG)\n",
        " - une couche de sortie `Dense(n_classes,activation='softmax')`, on prédit un vecteur probabilités de taille `n_classes`. La fonction d'activation softmax permet d'avoir un vecteur de probabilité en sortie.\n",
        "\n",
        " Exemple:\n",
        " ```\n",
        "  model.add(keras.layers.Dense(64,activation='relu'))\n",
        " ```\n",
        " Documentation sur comment faire un modèle séquentiel : https://www.tensorflow.org/guide/keras/sequential_model"
      ]
    },
    {
      "cell_type": "code",
      "execution_count": null,
      "metadata": {
        "id": "3j9o9xK3E5Jb"
      },
      "outputs": [],
      "source": [
        "### Define the neural network\n",
        "def neural_network():\n",
        "    model=tf.keras.models.Sequential()\n",
        "    model.add(keras.layers.Flatten(input_shape=(256,256,4)))\n",
        "    model.add(keras.layers.Dense(512,activation='relu'))\n",
        "    model.add(keras.layers.Dense(256,activation='relu'))\n",
        "    model.add(keras.layers.Dense(32,activation='softmax'))\n",
        "\n",
        "    return model"
      ]
    },
    {
      "cell_type": "code",
      "execution_count": null,
      "metadata": {
        "id": "OzZ_nZG8E5Jc"
      },
      "outputs": [],
      "source": [
        "#creation du modele\n",
        "model = neural_network()"
      ]
    },
    {
      "cell_type": "code",
      "execution_count": null,
      "metadata": {
        "id": "rH8pLnliE5Jc",
        "outputId": "b70532c4-55fe-49c0-f23a-8146b9aab052"
      },
      "outputs": [
        {
          "name": "stdout",
          "output_type": "stream",
          "text": [
            "Model: \"sequential_3\"\n",
            "_________________________________________________________________\n",
            " Layer (type)                Output Shape              Param #   \n",
            "=================================================================\n",
            " flatten_3 (Flatten)         (None, 262144)            0         \n",
            "                                                                 \n",
            " dense_9 (Dense)             (None, 512)               134218240 \n",
            "                                                                 \n",
            " dense_10 (Dense)            (None, 256)               131328    \n",
            "                                                                 \n",
            " dense_11 (Dense)            (None, 32)                8224      \n",
            "                                                                 \n",
            "=================================================================\n",
            "Total params: 134,357,792\n",
            "Trainable params: 134,357,792\n",
            "Non-trainable params: 0\n",
            "_________________________________________________________________\n"
          ]
        }
      ],
      "source": [
        "# Visualisez votre réseau de neurones\n",
        "model.summary()"
      ]
    },
    {
      "cell_type": "code",
      "execution_count": null,
      "metadata": {
        "id": "_uYlNi0_E5Jc"
      },
      "outputs": [],
      "source": [
        "### Define the optimizer,loss function and metrics\n",
        "opt = tf.keras.optimizers.Adam(learning_rate=0.01)\n",
        "loss = tf.keras.losses.SparseCategoricalCrossentropy()\n",
        "metrics = ['accuracy']"
      ]
    },
    {
      "cell_type": "code",
      "execution_count": null,
      "metadata": {
        "id": "SsP2ZBq8E5Jd"
      },
      "outputs": [],
      "source": [
        "#compilation du modèle\n",
        "#model.compile(opt,loss,metrics)\n",
        "#gpt :\n",
        "model.compile(optimizer='adam', loss='categorical_crossentropy', metrics=['accuracy'])"
      ]
    },
    {
      "cell_type": "markdown",
      "metadata": {
        "id": "Di4QJ9qcE5Jd"
      },
      "source": [
        "Maintenant vous allez entrainer votre modèle sur le dataset qui comporte les images (x_train) associées à leur label (y_train). Pour cela on utilise la méthode `model.fit(...)`.\n",
        "\n",
        "L'argument epochs correspond au nombre de fois où le dataset est présenté au réseau de neurones. Ici mettez entre 1 et 20 epochs.\n",
        "\n",
        "L'argument validation_data sert à vérifier que votre modèle est bon sur des images qu'il n'a jamais vues (pas utilisées dans l'entrainement), i.e. qu'il n'a pas \"appris\" le dataset par cœur.\n",
        "\n",
        "Documentation : https://www.tensorflow.org/api_docs/python/tf/keras/Model"
      ]
    },
    {
      "cell_type": "code",
      "execution_count": null,
      "metadata": {
        "id": "Az8VDkhxE5Jd",
        "outputId": "4403fdb7-786b-4999-a20d-8632d6af2df7"
      },
      "outputs": [
        {
          "name": "stdout",
          "output_type": "stream",
          "text": [
            "Epoch 1/2\n"
          ]
        },
        {
          "ename": "ValueError",
          "evalue": "in user code:\n\n    File \"/opt/homebrew/lib/python3.10/site-packages/keras/engine/training.py\", line 1249, in train_function  *\n        return step_function(self, iterator)\n    File \"/opt/homebrew/lib/python3.10/site-packages/keras/engine/training.py\", line 1233, in step_function  **\n        outputs = model.distribute_strategy.run(run_step, args=(data,))\n    File \"/opt/homebrew/lib/python3.10/site-packages/keras/engine/training.py\", line 1222, in run_step  **\n        outputs = model.train_step(data)\n    File \"/opt/homebrew/lib/python3.10/site-packages/keras/engine/training.py\", line 1024, in train_step\n        loss = self.compute_loss(x, y, y_pred, sample_weight)\n    File \"/opt/homebrew/lib/python3.10/site-packages/keras/engine/training.py\", line 1082, in compute_loss\n        return self.compiled_loss(\n    File \"/opt/homebrew/lib/python3.10/site-packages/keras/engine/compile_utils.py\", line 265, in __call__\n        loss_value = loss_obj(y_t, y_p, sample_weight=sw)\n    File \"/opt/homebrew/lib/python3.10/site-packages/keras/losses.py\", line 152, in __call__\n        losses = call_fn(y_true, y_pred)\n    File \"/opt/homebrew/lib/python3.10/site-packages/keras/losses.py\", line 284, in call  **\n        return ag_fn(y_true, y_pred, **self._fn_kwargs)\n    File \"/opt/homebrew/lib/python3.10/site-packages/keras/losses.py\", line 2004, in categorical_crossentropy\n        return backend.categorical_crossentropy(\n    File \"/opt/homebrew/lib/python3.10/site-packages/keras/backend.py\", line 5532, in categorical_crossentropy\n        target.shape.assert_is_compatible_with(output.shape)\n\n    ValueError: Shapes (None, 256, 256) and (None, 32) are incompatible\n",
          "output_type": "error",
          "traceback": [
            "\u001b[0;31m---------------------------------------------------------------------------\u001b[0m",
            "\u001b[0;31mValueError\u001b[0m                                Traceback (most recent call last)",
            "Cell \u001b[0;32mIn [98], line 1\u001b[0m\n\u001b[0;32m----> 1\u001b[0m history \u001b[39m=\u001b[39m model\u001b[39m.\u001b[39;49mfit(x_train,y_train,epochs\u001b[39m=\u001b[39;49m\u001b[39m2\u001b[39;49m,validation_data\u001b[39m=\u001b[39;49m(x_test,y_test),batch_size\u001b[39m=\u001b[39;49m\u001b[39m40\u001b[39;49m)\n",
            "File \u001b[0;32m/opt/homebrew/lib/python3.10/site-packages/keras/utils/traceback_utils.py:70\u001b[0m, in \u001b[0;36mfilter_traceback.<locals>.error_handler\u001b[0;34m(*args, **kwargs)\u001b[0m\n\u001b[1;32m     67\u001b[0m     filtered_tb \u001b[39m=\u001b[39m _process_traceback_frames(e\u001b[39m.\u001b[39m__traceback__)\n\u001b[1;32m     68\u001b[0m     \u001b[39m# To get the full stack trace, call:\u001b[39;00m\n\u001b[1;32m     69\u001b[0m     \u001b[39m# `tf.debugging.disable_traceback_filtering()`\u001b[39;00m\n\u001b[0;32m---> 70\u001b[0m     \u001b[39mraise\u001b[39;00m e\u001b[39m.\u001b[39mwith_traceback(filtered_tb) \u001b[39mfrom\u001b[39;00m \u001b[39mNone\u001b[39m\n\u001b[1;32m     71\u001b[0m \u001b[39mfinally\u001b[39;00m:\n\u001b[1;32m     72\u001b[0m     \u001b[39mdel\u001b[39;00m filtered_tb\n",
            "File \u001b[0;32m/var/folders/r7/77d45dqd7318drmc2yzlpk_80000gn/T/__autograph_generated_filel_5zv2v_.py:15\u001b[0m, in \u001b[0;36mouter_factory.<locals>.inner_factory.<locals>.tf__train_function\u001b[0;34m(iterator)\u001b[0m\n\u001b[1;32m     13\u001b[0m \u001b[39mtry\u001b[39;00m:\n\u001b[1;32m     14\u001b[0m     do_return \u001b[39m=\u001b[39m \u001b[39mTrue\u001b[39;00m\n\u001b[0;32m---> 15\u001b[0m     retval_ \u001b[39m=\u001b[39m ag__\u001b[39m.\u001b[39mconverted_call(ag__\u001b[39m.\u001b[39mld(step_function), (ag__\u001b[39m.\u001b[39mld(\u001b[39mself\u001b[39m), ag__\u001b[39m.\u001b[39mld(iterator)), \u001b[39mNone\u001b[39;00m, fscope)\n\u001b[1;32m     16\u001b[0m \u001b[39mexcept\u001b[39;00m:\n\u001b[1;32m     17\u001b[0m     do_return \u001b[39m=\u001b[39m \u001b[39mFalse\u001b[39;00m\n",
            "\u001b[0;31mValueError\u001b[0m: in user code:\n\n    File \"/opt/homebrew/lib/python3.10/site-packages/keras/engine/training.py\", line 1249, in train_function  *\n        return step_function(self, iterator)\n    File \"/opt/homebrew/lib/python3.10/site-packages/keras/engine/training.py\", line 1233, in step_function  **\n        outputs = model.distribute_strategy.run(run_step, args=(data,))\n    File \"/opt/homebrew/lib/python3.10/site-packages/keras/engine/training.py\", line 1222, in run_step  **\n        outputs = model.train_step(data)\n    File \"/opt/homebrew/lib/python3.10/site-packages/keras/engine/training.py\", line 1024, in train_step\n        loss = self.compute_loss(x, y, y_pred, sample_weight)\n    File \"/opt/homebrew/lib/python3.10/site-packages/keras/engine/training.py\", line 1082, in compute_loss\n        return self.compiled_loss(\n    File \"/opt/homebrew/lib/python3.10/site-packages/keras/engine/compile_utils.py\", line 265, in __call__\n        loss_value = loss_obj(y_t, y_p, sample_weight=sw)\n    File \"/opt/homebrew/lib/python3.10/site-packages/keras/losses.py\", line 152, in __call__\n        losses = call_fn(y_true, y_pred)\n    File \"/opt/homebrew/lib/python3.10/site-packages/keras/losses.py\", line 284, in call  **\n        return ag_fn(y_true, y_pred, **self._fn_kwargs)\n    File \"/opt/homebrew/lib/python3.10/site-packages/keras/losses.py\", line 2004, in categorical_crossentropy\n        return backend.categorical_crossentropy(\n    File \"/opt/homebrew/lib/python3.10/site-packages/keras/backend.py\", line 5532, in categorical_crossentropy\n        target.shape.assert_is_compatible_with(output.shape)\n\n    ValueError: Shapes (None, 256, 256) and (None, 32) are incompatible\n"
          ]
        }
      ],
      "source": [
        "history = model.fit(x_train,y_train,epochs=2,validation_data=(x_test,y_test),batch_size=40)"
      ]
    }
  ]
}